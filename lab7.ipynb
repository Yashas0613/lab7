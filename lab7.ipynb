{
 "cells": [
  {
   "cell_type": "code",
   "execution_count": 4,
   "id": "76c71f98",
   "metadata": {},
   "outputs": [
    {
     "name": "stdout",
     "output_type": "stream",
     "text": [
      "enter the size of list3\n",
      "enter the size of sublist2\n",
      "1\n",
      "2\n",
      "enter the size of sublist3\n",
      "2\n",
      "2\n",
      "2\n",
      "enter the size of sublist4\n",
      "3\n",
      "2\n",
      "4\n",
      "5\n",
      "[['1', '2'], ['2', '2', '2'], ['3', '2', '4', '5']]\n"
     ]
    },
    {
     "ename": "TypeError",
     "evalue": "int() argument must be a string, a bytes-like object or a number, not 'list'",
     "output_type": "error",
     "traceback": [
      "\u001b[1;31m---------------------------------------------------------------------------\u001b[0m",
      "\u001b[1;31mTypeError\u001b[0m                                 Traceback (most recent call last)",
      "Input \u001b[1;32mIn [4]\u001b[0m, in \u001b[0;36m<cell line: 23>\u001b[1;34m()\u001b[0m\n\u001b[0;32m     19\u001b[0m             s\u001b[38;5;241m=\u001b[39ms\u001b[38;5;241m+\u001b[39m\u001b[38;5;28mint\u001b[39m(lst[j])\n\u001b[0;32m     20\u001b[0m     \u001b[38;5;28mprint\u001b[39m(\u001b[38;5;28mstr\u001b[39m(s))\n\u001b[1;32m---> 23\u001b[0m \u001b[43mnested_sum\u001b[49m\u001b[43m(\u001b[49m\u001b[43mlst\u001b[49m\u001b[43m)\u001b[49m\n",
      "Input \u001b[1;32mIn [4]\u001b[0m, in \u001b[0;36mnested_sum\u001b[1;34m(lst)\u001b[0m\n\u001b[0;32m     17\u001b[0m \u001b[38;5;28;01mfor\u001b[39;00m i \u001b[38;5;129;01min\u001b[39;00m \u001b[38;5;28mrange\u001b[39m(x):\n\u001b[0;32m     18\u001b[0m     \u001b[38;5;28;01mfor\u001b[39;00m j \u001b[38;5;129;01min\u001b[39;00m \u001b[38;5;28mrange\u001b[39m(y):\n\u001b[1;32m---> 19\u001b[0m         s\u001b[38;5;241m=\u001b[39ms\u001b[38;5;241m+\u001b[39m\u001b[38;5;28;43mint\u001b[39;49m\u001b[43m(\u001b[49m\u001b[43mlst\u001b[49m\u001b[43m[\u001b[49m\u001b[43mj\u001b[49m\u001b[43m]\u001b[49m\u001b[43m)\u001b[49m\n\u001b[0;32m     20\u001b[0m \u001b[38;5;28mprint\u001b[39m(\u001b[38;5;28mstr\u001b[39m(s))\n",
      "\u001b[1;31mTypeError\u001b[0m: int() argument must be a string, a bytes-like object or a number, not 'list'"
     ]
    }
   ],
   "source": [
    "x=int(input(\"enter the size of list\"))\n",
    "lst=[]\n",
    "for i in range(x):\n",
    "    slst=[]\n",
    "    y= int(input(\"enter the size of sublist\"))\n",
    "    \n",
    "    for j in range(y):\n",
    "        slst.append(input())\n",
    "        \n",
    "    lst.append(slst)\n",
    "    \n",
    "print (lst)\n",
    "\n",
    "\n",
    "def nested_sum(lst):\n",
    "    s=0\n",
    "    for i in range(x):\n",
    "        for j in range(y):\n",
    "            s=s+int(lst[j])\n",
    "    print(str(s))\n",
    "    \n",
    "\n",
    "nested_sum(lst)\n"
   ]
  },
  {
   "cell_type": "code",
   "execution_count": 2,
   "id": "e3548e33",
   "metadata": {},
   "outputs": [
    {
     "name": "stdout",
     "output_type": "stream",
     "text": [
      "enter the number of elements: 4\n",
      "1\n",
      "2\n",
      "3\n",
      "4\n",
      "[1, 2, 3, 4]\n",
      "[1, 3, 5, 7]\n"
     ]
    }
   ],
   "source": [
    "lst=[]\n",
    "\n",
    "n=int(input(\"enter the number of elements: \"))\n",
    "\n",
    "for i in range(0,n):\n",
    "    ele = int(input( ))\n",
    "    lst.append(ele)\n",
    "    \n",
    "print(lst)\n",
    "\n",
    "sum=[]\n",
    "sum.append(lst[0])\n",
    "for i in range(1,n):\n",
    "    s=lst[i-1]+lst[i]\n",
    "    sum.append(s)\n",
    "print(sum)\n",
    "    "
   ]
  },
  {
   "cell_type": "markdown",
   "id": "b5b60578",
   "metadata": {},
   "source": []
  },
  {
   "cell_type": "code",
   "execution_count": 3,
   "id": "500044d8",
   "metadata": {},
   "outputs": [
    {
     "name": "stdout",
     "output_type": "stream",
     "text": [
      "enter the number of elements: 4\n",
      "1\n",
      "2\n",
      "3\n",
      "4\n",
      "[1, 2, 3, 4]\n",
      "[2, 3]\n"
     ]
    }
   ],
   "source": [
    "lst=[]\n",
    "\n",
    "n=int(input(\"enter the number of elements: \"))\n",
    "\n",
    "for i in range(0,n):\n",
    "    ele = int(input( ))\n",
    "    lst.append(ele)\n",
    "    \n",
    "print(lst)\n",
    "\n",
    "def remove(lst):\n",
    "    \n",
    "    lst.pop(0)\n",
    "    lst.pop(n-2)\n",
    "    print(lst)\n",
    "\n",
    "remove(lst)"
   ]
  },
  {
   "cell_type": "code",
   "execution_count": 6,
   "id": "a1441849",
   "metadata": {},
   "outputs": [
    {
     "name": "stdout",
     "output_type": "stream",
     "text": [
      "enter the number of elements: 4\n",
      "2\n",
      "3\n",
      "1\n",
      "2\n",
      "[2, 3, 1, 2]\n",
      "not sorted\n"
     ]
    }
   ],
   "source": [
    "lst=[]\n",
    "\n",
    "n=int(input(\"enter the number of elements: \"))\n",
    "\n",
    "for i in range(0,n):\n",
    "    ele = int(input( ))\n",
    "    lst.append(ele)\n",
    "    \n",
    "print(lst)\n",
    "\n",
    "\n",
    "def sort(lst):\n",
    "    new=sorted(lst)\n",
    "    if (new==lst):\n",
    "        print(\"True\")\n",
    "    else:\n",
    "        print(\"False\")\n",
    "        \n",
    "sort(lst)"
   ]
  },
  {
   "cell_type": "code",
   "execution_count": 17,
   "id": "e997dbb9",
   "metadata": {},
   "outputs": [
    {
     "name": "stdout",
     "output_type": "stream",
     "text": [
      "enter the number of elements: 4\n",
      "1\n",
      "2\n",
      "2\n",
      "2\n",
      "[1, 2, 2, 2]\n",
      "true\n"
     ]
    }
   ],
   "source": [
    "lst=[]\n",
    "\n",
    "n=int(input(\"enter the number of elements: \"))\n",
    "\n",
    "for i in range(0,n):\n",
    "    ele = int(input( ))\n",
    "    lst.append(ele)\n",
    "    \n",
    "print(lst)\n",
    "\n",
    "def has_duplicate(lst):\n",
    "    for i in range(n):\n",
    "        s=lst.count(lst[i])\n",
    "        if (s>1):\n",
    "            print(\"true\")\n",
    "            break\n",
    "\n",
    "has_duplicate(lst)"
   ]
  },
  {
   "cell_type": "code",
   "execution_count": null,
   "id": "e6d49e2c",
   "metadata": {},
   "outputs": [],
   "source": []
  }
 ],
 "metadata": {
  "kernelspec": {
   "display_name": "Python 3 (ipykernel)",
   "language": "python",
   "name": "python3"
  },
  "language_info": {
   "codemirror_mode": {
    "name": "ipython",
    "version": 3
   },
   "file_extension": ".py",
   "mimetype": "text/x-python",
   "name": "python",
   "nbconvert_exporter": "python",
   "pygments_lexer": "ipython3",
   "version": "3.9.12"
  }
 },
 "nbformat": 4,
 "nbformat_minor": 5
}
